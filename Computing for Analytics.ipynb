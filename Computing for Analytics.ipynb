{
 "cells": [
  {
   "cell_type": "markdown",
   "id": "11360c67",
   "metadata": {},
   "source": [
    "## Load Dataset"
   ]
  },
  {
   "cell_type": "code",
   "execution_count": 1,
   "id": "4a6fd3ca",
   "metadata": {},
   "outputs": [],
   "source": [
    "import pandas as pd \n",
    "import numpy as np\n",
    "import networkx as nx\n",
    "import matplotlib.pyplot as plt\n",
    "import math\n",
    "import random\n",
    "city = pd.read_csv(\"city.csv\")\n",
    "pd.set_option('display.max_rows', 20)"
   ]
  },
  {
   "cell_type": "code",
   "execution_count": 2,
   "id": "48e777e3",
   "metadata": {},
   "outputs": [],
   "source": [
    "data = city.loc[:20,['NAME', 'X', 'Y', ]]"
   ]
  },
  {
   "cell_type": "code",
   "execution_count": 3,
   "id": "aadc91bd",
   "metadata": {},
   "outputs": [
    {
     "data": {
      "text/html": [
       "<div>\n",
       "<style scoped>\n",
       "    .dataframe tbody tr th:only-of-type {\n",
       "        vertical-align: middle;\n",
       "    }\n",
       "\n",
       "    .dataframe tbody tr th {\n",
       "        vertical-align: top;\n",
       "    }\n",
       "\n",
       "    .dataframe thead th {\n",
       "        text-align: right;\n",
       "    }\n",
       "</style>\n",
       "<table border=\"1\" class=\"dataframe\">\n",
       "  <thead>\n",
       "    <tr style=\"text-align: right;\">\n",
       "      <th></th>\n",
       "      <th>X</th>\n",
       "      <th>Y</th>\n",
       "      <th>FID</th>\n",
       "      <th>NAME</th>\n",
       "      <th>CLASS</th>\n",
       "      <th>ST</th>\n",
       "      <th>STFIPS</th>\n",
       "      <th>PLACEFIPS</th>\n",
       "      <th>CAPITAL</th>\n",
       "      <th>POP_CLASS</th>\n",
       "      <th>...</th>\n",
       "      <th>MARHH_CHD</th>\n",
       "      <th>MARHH_NO_C</th>\n",
       "      <th>MHH_CHILD</th>\n",
       "      <th>FHH_CHILD</th>\n",
       "      <th>FAMILIES</th>\n",
       "      <th>AVE_FAM_SZ</th>\n",
       "      <th>HSE_UNITS</th>\n",
       "      <th>VACANT</th>\n",
       "      <th>OWNER_OCC</th>\n",
       "      <th>RENTER_OCC</th>\n",
       "    </tr>\n",
       "  </thead>\n",
       "  <tbody>\n",
       "    <tr>\n",
       "      <th>0</th>\n",
       "      <td>-74.010132</td>\n",
       "      <td>40.710571</td>\n",
       "      <td>2174</td>\n",
       "      <td>New York</td>\n",
       "      <td>city</td>\n",
       "      <td>NY</td>\n",
       "      <td>36</td>\n",
       "      <td>3651000</td>\n",
       "      <td></td>\n",
       "      <td>10</td>\n",
       "      <td>...</td>\n",
       "      <td>531386</td>\n",
       "      <td>566484</td>\n",
       "      <td>77061</td>\n",
       "      <td>344755</td>\n",
       "      <td>1850221</td>\n",
       "      <td>3.32</td>\n",
       "      <td>3371062</td>\n",
       "      <td>261278</td>\n",
       "      <td>962892</td>\n",
       "      <td>2146892</td>\n",
       "    </tr>\n",
       "    <tr>\n",
       "      <th>1</th>\n",
       "      <td>-118.270582</td>\n",
       "      <td>34.052790</td>\n",
       "      <td>415</td>\n",
       "      <td>Los Angeles</td>\n",
       "      <td>city</td>\n",
       "      <td>CA</td>\n",
       "      <td>6</td>\n",
       "      <td>644000</td>\n",
       "      <td></td>\n",
       "      <td>10</td>\n",
       "      <td>...</td>\n",
       "      <td>277289</td>\n",
       "      <td>245056</td>\n",
       "      <td>46908</td>\n",
       "      <td>118939</td>\n",
       "      <td>807326</td>\n",
       "      <td>3.53</td>\n",
       "      <td>1413995</td>\n",
       "      <td>95827</td>\n",
       "      <td>503863</td>\n",
       "      <td>814305</td>\n",
       "    </tr>\n",
       "    <tr>\n",
       "      <th>2</th>\n",
       "      <td>-87.647146</td>\n",
       "      <td>41.756488</td>\n",
       "      <td>63</td>\n",
       "      <td>Chicago</td>\n",
       "      <td>city</td>\n",
       "      <td>IL</td>\n",
       "      <td>17</td>\n",
       "      <td>1714000</td>\n",
       "      <td></td>\n",
       "      <td>10</td>\n",
       "      <td>...</td>\n",
       "      <td>165868</td>\n",
       "      <td>168435</td>\n",
       "      <td>28332</td>\n",
       "      <td>116555</td>\n",
       "      <td>576793</td>\n",
       "      <td>3.40</td>\n",
       "      <td>1194337</td>\n",
       "      <td>148777</td>\n",
       "      <td>469562</td>\n",
       "      <td>575998</td>\n",
       "    </tr>\n",
       "    <tr>\n",
       "      <th>3</th>\n",
       "      <td>-95.367507</td>\n",
       "      <td>29.758761</td>\n",
       "      <td>3641</td>\n",
       "      <td>Houston</td>\n",
       "      <td>city</td>\n",
       "      <td>TX</td>\n",
       "      <td>48</td>\n",
       "      <td>4835000</td>\n",
       "      <td></td>\n",
       "      <td>10</td>\n",
       "      <td>...</td>\n",
       "      <td>159610</td>\n",
       "      <td>145478</td>\n",
       "      <td>26039</td>\n",
       "      <td>85014</td>\n",
       "      <td>481570</td>\n",
       "      <td>3.38</td>\n",
       "      <td>892646</td>\n",
       "      <td>110003</td>\n",
       "      <td>355236</td>\n",
       "      <td>427407</td>\n",
       "    </tr>\n",
       "    <tr>\n",
       "      <th>4</th>\n",
       "      <td>-112.073868</td>\n",
       "      <td>33.446114</td>\n",
       "      <td>910</td>\n",
       "      <td>Phoenix</td>\n",
       "      <td>city</td>\n",
       "      <td>AZ</td>\n",
       "      <td>4</td>\n",
       "      <td>455000</td>\n",
       "      <td>State</td>\n",
       "      <td>10</td>\n",
       "      <td>...</td>\n",
       "      <td>115852</td>\n",
       "      <td>102047</td>\n",
       "      <td>23353</td>\n",
       "      <td>54452</td>\n",
       "      <td>330762</td>\n",
       "      <td>3.42</td>\n",
       "      <td>590149</td>\n",
       "      <td>75343</td>\n",
       "      <td>296742</td>\n",
       "      <td>218064</td>\n",
       "    </tr>\n",
       "  </tbody>\n",
       "</table>\n",
       "<p>5 rows × 51 columns</p>\n",
       "</div>"
      ],
      "text/plain": [
       "            X          Y   FID         NAME CLASS  ST  STFIPS  PLACEFIPS  \\\n",
       "0  -74.010132  40.710571  2174     New York  city  NY      36    3651000   \n",
       "1 -118.270582  34.052790   415  Los Angeles  city  CA       6     644000   \n",
       "2  -87.647146  41.756488    63      Chicago  city  IL      17    1714000   \n",
       "3  -95.367507  29.758761  3641      Houston  city  TX      48    4835000   \n",
       "4 -112.073868  33.446114   910      Phoenix  city  AZ       4     455000   \n",
       "\n",
       "  CAPITAL  POP_CLASS  ...  MARHH_CHD  MARHH_NO_C  MHH_CHILD  FHH_CHILD  \\\n",
       "0                 10  ...     531386      566484      77061     344755   \n",
       "1                 10  ...     277289      245056      46908     118939   \n",
       "2                 10  ...     165868      168435      28332     116555   \n",
       "3                 10  ...     159610      145478      26039      85014   \n",
       "4   State         10  ...     115852      102047      23353      54452   \n",
       "\n",
       "   FAMILIES  AVE_FAM_SZ  HSE_UNITS  VACANT  OWNER_OCC  RENTER_OCC  \n",
       "0   1850221        3.32    3371062  261278     962892     2146892  \n",
       "1    807326        3.53    1413995   95827     503863      814305  \n",
       "2    576793        3.40    1194337  148777     469562      575998  \n",
       "3    481570        3.38     892646  110003     355236      427407  \n",
       "4    330762        3.42     590149   75343     296742      218064  \n",
       "\n",
       "[5 rows x 51 columns]"
      ]
     },
     "execution_count": 3,
     "metadata": {},
     "output_type": "execute_result"
    }
   ],
   "source": [
    "city.head()"
   ]
  },
  {
   "cell_type": "code",
   "execution_count": 4,
   "id": "cb0dad22",
   "metadata": {},
   "outputs": [
    {
     "data": {
      "text/html": [
       "<div>\n",
       "<style scoped>\n",
       "    .dataframe tbody tr th:only-of-type {\n",
       "        vertical-align: middle;\n",
       "    }\n",
       "\n",
       "    .dataframe tbody tr th {\n",
       "        vertical-align: top;\n",
       "    }\n",
       "\n",
       "    .dataframe thead th {\n",
       "        text-align: right;\n",
       "    }\n",
       "</style>\n",
       "<table border=\"1\" class=\"dataframe\">\n",
       "  <thead>\n",
       "    <tr style=\"text-align: right;\">\n",
       "      <th></th>\n",
       "      <th>NAME</th>\n",
       "      <th>X</th>\n",
       "      <th>Y</th>\n",
       "    </tr>\n",
       "  </thead>\n",
       "  <tbody>\n",
       "    <tr>\n",
       "      <th>0</th>\n",
       "      <td>New York</td>\n",
       "      <td>-74.010132</td>\n",
       "      <td>40.710571</td>\n",
       "    </tr>\n",
       "    <tr>\n",
       "      <th>1</th>\n",
       "      <td>Los Angeles</td>\n",
       "      <td>-118.270582</td>\n",
       "      <td>34.052790</td>\n",
       "    </tr>\n",
       "    <tr>\n",
       "      <th>2</th>\n",
       "      <td>Chicago</td>\n",
       "      <td>-87.647146</td>\n",
       "      <td>41.756488</td>\n",
       "    </tr>\n",
       "    <tr>\n",
       "      <th>3</th>\n",
       "      <td>Houston</td>\n",
       "      <td>-95.367507</td>\n",
       "      <td>29.758761</td>\n",
       "    </tr>\n",
       "    <tr>\n",
       "      <th>4</th>\n",
       "      <td>Phoenix</td>\n",
       "      <td>-112.073868</td>\n",
       "      <td>33.446114</td>\n",
       "    </tr>\n",
       "  </tbody>\n",
       "</table>\n",
       "</div>"
      ],
      "text/plain": [
       "          NAME           X          Y\n",
       "0     New York  -74.010132  40.710571\n",
       "1  Los Angeles -118.270582  34.052790\n",
       "2      Chicago  -87.647146  41.756488\n",
       "3      Houston  -95.367507  29.758761\n",
       "4      Phoenix -112.073868  33.446114"
      ]
     },
     "execution_count": 4,
     "metadata": {},
     "output_type": "execute_result"
    }
   ],
   "source": [
    "data.head()"
   ]
  },
  {
   "cell_type": "markdown",
   "id": "f02b9663",
   "metadata": {},
   "source": [
    "## Creates a graph of different flights. More information on coding section is in the word document."
   ]
  },
  {
   "cell_type": "code",
   "execution_count": 5,
   "id": "14164b5a",
   "metadata": {
    "scrolled": false
   },
   "outputs": [
    {
     "data": {
      "image/png": "[encoded data removed]",
      "text/plain": [
       "<Figure size 432x288 with 1 Axes>"
      ]
     },
     "metadata": {},
     "output_type": "display_data"
    }
   ],
   "source": [
    "H = nx.Graph()\n",
    "for i in range(20):\n",
    "    H.add_node(data.iloc[i]['NAME'], pos=(data.iloc[i]['X'], data.iloc[i]['Y']))\n",
    "for j in range(20):\n",
    "    for k in range(20):\n",
    "        random_num = random.randint(0,100)\n",
    "        if random_num < 40:\n",
    "            if k > j:\n",
    "                H.add_edge(data.iloc[j]['NAME'], data.iloc[k]['NAME'])\n",
    "nx.draw(H, nx.get_node_attributes(H, 'pos'),with_labels=True) "
   ]
  },
  {
   "cell_type": "markdown",
   "id": "3886e254",
   "metadata": {},
   "source": [
    "## totalDistance() uses BFS on the above graph to distance traveled in each city, total distance, and total fuel cost."
   ]
  },
  {
   "cell_type": "code",
   "execution_count": 6,
   "id": "af736923",
   "metadata": {
    "scrolled": false
   },
   "outputs": [
    {
     "name": "stdout",
     "output_type": "stream",
     "text": [
      "There are 7 flights going out of New York this week. The destinations are: ['Phoenix', 'Philadelphia', 'San Diego', 'San Jose', 'Indianapolis', 'Fort Worth', 'El Paso'] . A total of  7 planes will be needed.\n",
      "The total distance of flights traveling out of New York is expected to be: 11135.14 miles\n",
      "\n",
      "There are 4 flights going out of Los Angeles this week. The destinations are: ['Chicago', 'San Francisco', 'Charlotte', 'Denver'] . A total of  4 planes will be needed.\n",
      "The total distance of flights traveling out of Los Angeles is expected to be: 5037.13 miles\n",
      "\n",
      "There are 7 flights going out of Chicago this week. The destinations are: ['Los Angeles', 'Philadelphia', 'San Antonio', 'Dallas', 'Fort Worth', 'Charlotte', 'Seattle'] . A total of  7 planes will be needed.\n",
      "The total distance of flights traveling out of Chicago is expected to be: 7384.49 miles\n",
      "\n",
      "There are 9 flights going out of Houston this week. The destinations are: ['Phoenix', 'Philadelphia', 'San Antonio', 'Dallas', 'Columbus', 'Indianapolis', 'Fort Worth', 'Charlotte', 'El Paso'] . A total of  9 planes will be needed.\n",
      "The total distance of flights traveling out of Houston is expected to be: 6465.58 miles\n",
      "\n",
      "There are 9 flights going out of Phoenix this week. The destinations are: ['New York', 'Houston', 'San Antonio', 'San Diego', 'Dallas', 'San Jose', 'Columbus', 'San Francisco', 'El Paso'] . A total of  9 planes will be needed.\n",
      "The total distance of flights traveling out of Phoenix is expected to be: 8461.49 miles\n",
      "\n",
      "There are 8 flights going out of Philadelphia this week. The destinations are: ['New York', 'Chicago', 'Houston', 'San Antonio', 'San Jose', 'Indianapolis', 'Fort Worth', 'Charlotte'] . A total of  8 planes will be needed.\n",
      "The total distance of flights traveling out of Philadelphia is expected to be: 8446.8 miles\n",
      "\n",
      "There are 10 flights going out of San Antonio this week. The destinations are: ['Chicago', 'Houston', 'Phoenix', 'Philadelphia', 'San Diego', 'Austin', 'Jacksonville', 'Indianapolis', 'Fort Worth', 'El Paso'] . A total of  10 planes will be needed.\n",
      "The total distance of flights traveling out of San Antonio is expected to be: 7538.2 miles\n",
      "\n",
      "There are 9 flights going out of San Diego this week. The destinations are: ['New York', 'Phoenix', 'San Antonio', 'Dallas', 'San Jose', 'Jacksonville', 'San Francisco', 'Denver', 'Seattle'] . A total of  9 planes will be needed.\n",
      "The total distance of flights traveling out of San Diego is expected to be: 9888.03 miles\n",
      "\n",
      "There are 9 flights going out of Dallas this week. The destinations are: ['Chicago', 'Houston', 'Phoenix', 'San Diego', 'Austin', 'Jacksonville', 'Columbus', 'Indianapolis', 'Fort Worth'] . A total of  9 planes will be needed.\n",
      "The total distance of flights traveling out of Dallas is expected to be: 5884.87 miles\n",
      "\n",
      "There are 6 flights going out of San Jose this week. The destinations are: ['New York', 'Phoenix', 'Philadelphia', 'San Diego', 'San Francisco', 'Fort Worth'] . A total of  6 planes will be needed.\n",
      "The total distance of flights traveling out of San Jose is expected to be: 7542.51 miles\n",
      "\n",
      "There are 4 flights going out of Austin this week. The destinations are: ['San Antonio', 'Dallas', 'Indianapolis', 'Charlotte'] . A total of  4 planes will be needed.\n",
      "The total distance of flights traveling out of Austin is expected to be: 2221.69 miles\n",
      "\n",
      "There are 7 flights going out of Jacksonville this week. The destinations are: ['San Antonio', 'San Diego', 'Dallas', 'Columbus', 'San Francisco', 'Charlotte', 'Seattle'] . A total of  7 planes will be needed.\n",
      "The total distance of flights traveling out of Jacksonville is expected to be: 9836.92 miles\n",
      "\n",
      "There are 7 flights going out of Columbus this week. The destinations are: ['Houston', 'Phoenix', 'Dallas', 'Jacksonville', 'Fort Worth', 'El Paso', 'Seattle'] . A total of  7 planes will be needed.\n",
      "The total distance of flights traveling out of Columbus is expected to be: 8618.14 miles\n",
      "\n",
      "There are 7 flights going out of San Francisco this week. The destinations are: ['Los Angeles', 'Phoenix', 'San Diego', 'San Jose', 'Jacksonville', 'Fort Worth', 'Denver'] . A total of  7 planes will be needed.\n",
      "The total distance of flights traveling out of San Francisco is expected to be: 6277.44 miles\n",
      "\n",
      "There are 10 flights going out of Indianapolis this week. The destinations are: ['New York', 'Houston', 'Philadelphia', 'San Antonio', 'Dallas', 'Austin', 'Fort Worth', 'Charlotte', 'El Paso', 'Seattle'] . A total of  10 planes will be needed.\n",
      "The total distance of flights traveling out of Indianapolis is expected to be: 9132.41 miles\n",
      "\n",
      "There are 10 flights going out of Fort Worth this week. The destinations are: ['New York', 'Chicago', 'Houston', 'Philadelphia', 'San Antonio', 'Dallas', 'San Jose', 'Columbus', 'San Francisco', 'Indianapolis'] . A total of  10 planes will be needed.\n",
      "The total distance of flights traveling out of Fort Worth is expected to be: 8649.77 miles\n",
      "\n",
      "There are 8 flights going out of Charlotte this week. The destinations are: ['Los Angeles', 'Chicago', 'Houston', 'Philadelphia', 'Austin', 'Jacksonville', 'Indianapolis', 'Denver'] . A total of  8 planes will be needed.\n",
      "The total distance of flights traveling out of Charlotte is expected to be: 7242.7 miles\n",
      "\n",
      "There are 6 flights going out of Denver this week. The destinations are: ['Los Angeles', 'San Diego', 'San Francisco', 'Charlotte', 'El Paso', 'Seattle'] . A total of  6 planes will be needed.\n",
      "The total distance of flights traveling out of Denver is expected to be: 5544.96 miles\n",
      "\n",
      "There are 8 flights going out of El Paso this week. The destinations are: ['New York', 'Houston', 'Phoenix', 'San Antonio', 'Columbus', 'Indianapolis', 'Denver', 'Seattle'] . A total of  8 planes will be needed.\n",
      "The total distance of flights traveling out of El Paso is expected to be: 8045.04 miles\n",
      "\n",
      "There are 7 flights going out of Seattle this week. The destinations are: ['Chicago', 'San Diego', 'Jacksonville', 'Columbus', 'Indianapolis', 'Denver', 'El Paso'] . A total of  7 planes will be needed.\n",
      "The total distance of flights traveling out of Seattle is expected to be: 11517.27 miles\n",
      "\n",
      "The total distance of flights for this week is: 154870.56 miles. For a total cost of: $ 4050.46 in fuel\n"
     ]
    }
   ],
   "source": [
    "def totalDistance(H):\n",
    "    R = 6371 \n",
    "    p = math.pi / 180 #p and R are used as variables to calculate distance\n",
    "    mpg = 65\n",
    "    cost_per_gallon = 1.70 # mpg and cost per gallon are estimates found online\n",
    "    total_distance = 0\n",
    "    for node in H.nodes():\n",
    "        list_of_neighbors = list(H.neighbors(node))\n",
    "        city_distance = 0\n",
    "        for i in list_of_neighbors:\n",
    "            node_long = data.loc[(data['NAME'] == node), \"X\"].tolist()\n",
    "            node_lat = data.loc[(data['NAME'] == node), \"Y\"].tolist()\n",
    "            i_long = data.loc[(data['NAME'] == i), \"X\"].tolist()\n",
    "            i_lat = data.loc[(data['NAME'] == i), \"Y\"].tolist()\n",
    "            dlat = node_lat[0] - i_lat[0]\n",
    "            dlon = node_long[0] - i_long[0]\n",
    "            a = (.5) - math.cos(dlat*p)/2 + (math.cos(i_lat[0]*p)* math.cos(node_lat[0]*p)) * (1-math.cos(dlon*p))/2\n",
    "            distance = (R *2 * math.asin(math.sqrt(a))) *.62137119\n",
    "            city_distance += distance\n",
    "            total_distance += distance\n",
    "            cost = (total_distance/mpg) * cost_per_gallon\n",
    "            \n",
    "        print(\"There are\", len(list_of_neighbors), \"flights going out of\",node, \"this week. The destinations are:\",list_of_neighbors, \". A total of \", len(list_of_neighbors), \"planes will be needed.\")\n",
    "        print(\"The total distance of flights traveling out of\", node, \"is expected to be:\",round(city_distance, 2), \"miles\")\n",
    "        \n",
    "        print()\n",
    "    return(print(\"The total distance of flights for this week is:\", round(total_distance, 2), \"miles. For a total cost of: $\", round(cost,2), \"in fuel\"))\n",
    "totalDistance(H)"
   ]
  },
  {
   "cell_type": "markdown",
   "id": "4cf92aaf",
   "metadata": {},
   "source": [
    "## findDistace() gives the straight line distance from any two cities. "
   ]
  },
  {
   "cell_type": "code",
   "execution_count": 7,
   "id": "f7de77b2",
   "metadata": {},
   "outputs": [
    {
     "name": "stdout",
     "output_type": "stream",
     "text": [
      "The total gas required to fly between Grand Rapids and Salt Lake City is estimated to be: $ 35.38 .\n",
      "The distance between Grand Rapids and Salt Lake City is 1352.74 miles.\n"
     ]
    }
   ],
   "source": [
    "def findDistance(cityA, cityB):\n",
    "    R = 6371\n",
    "    p = math.pi / 180\n",
    "    mpg = 65\n",
    "    cost_per_gallon = 1.70\n",
    "    \n",
    "    cityA_long = city.loc[city['NAME'] == cityA, \"X\"].tolist()    \n",
    "    cityA_lat = city.loc[city['NAME'] == cityA, \"Y\"].tolist()\n",
    "    cityB_long = city.loc[city['NAME'] == cityB, \"X\"].tolist()\n",
    "    cityB_lat = city.loc[city['NAME'] == cityB, \"Y\"].tolist()\n",
    "    \n",
    "    dlat = cityA_lat[0] - cityB_lat[0]\n",
    "    dlon = cityA_long[0] - cityB_long[0]\n",
    "    a = (.5) - math.cos(dlat*p)/2 + (math.cos(cityB_lat[0]*p)* math.cos(cityA_lat[0]*p)) * (1-math.cos(dlon*p))/2\n",
    "    distance = (R *2 * math.asin(math.sqrt(a))) *.62137119\n",
    "    \n",
    "    cost = (distance/mpg) * cost_per_gallon\n",
    "    print(\"The total gas required to fly between\", cityA, \"and\", cityB, \"is estimated to be: $\",round(cost,2), \".\")\n",
    "    return(print(\"The distance between\", cityA, \"and\", cityB, \"is\",round(distance,2), \"miles.\"))\n",
    "    \n",
    "findDistance('Grand Rapids', 'Salt Lake City')"
   ]
  },
  {
   "cell_type": "markdown",
   "id": "18feb23f",
   "metadata": {},
   "source": [
    "## K-means Clustering"
   ]
  },
  {
   "cell_type": "code",
   "execution_count": 8,
   "id": "84279fde",
   "metadata": {},
   "outputs": [],
   "source": [
    "import numpy as np\n",
    "import pandas as pd\n",
    "import statsmodels.api as sm\n",
    "import matplotlib.pyplot as plt\n",
    "from sklearn import svm\n",
    "import seaborn as sns\n",
    "sns.set()\n",
    "from sklearn.cluster import KMeans\n",
    "from mlxtend.plotting import plot_decision_regions\n",
    "\n",
    "%matplotlib inline"
   ]
  },
  {
   "cell_type": "code",
   "execution_count": 9,
   "id": "f779b84f",
   "metadata": {},
   "outputs": [],
   "source": [
    "data = pd.DataFrame(pd.read_csv(\"city.csv\"))\n",
    "data = data.iloc[0:100,:]"
   ]
  },
  {
   "cell_type": "code",
   "execution_count": 10,
   "id": "703819e7",
   "metadata": {},
   "outputs": [],
   "source": [
    "data['Population_Growth']=data['POPULATION']/data['POP2010']"
   ]
  },
  {
   "cell_type": "code",
   "execution_count": 11,
   "id": "32e3d932",
   "metadata": {},
   "outputs": [],
   "source": [
    "data['Workforce_Ratio']=(data['AGE_20_24']+data['AGE_25_34'])/data['POPULATION']"
   ]
  },
  {
   "cell_type": "markdown",
   "id": "d9a1d336",
   "metadata": {},
   "source": [
    "### Scatter plot\n"
   ]
  },
  {
   "cell_type": "code",
   "execution_count": 12,
   "id": "c97c5904",
   "metadata": {},
   "outputs": [
    {
     "data": {
      "image/png": "[encoded data removed]",
      "text/plain": [
       "<Figure size 432x288 with 1 Axes>"
      ]
     },
     "metadata": {
      "needs_background": "light"
     },
     "output_type": "display_data"
    }
   ],
   "source": [
    "plt.scatter(data['Population_Growth'],data['Workforce_Ratio'])\n",
    "plt.xlabel('Population_Growth', size=14)\n",
    "plt.ylabel('Workforce_Ratio', size=14)\n",
    "\n",
    "plt.show()"
   ]
  },
  {
   "cell_type": "markdown",
   "id": "e97e2c8d",
   "metadata": {},
   "source": [
    "### K-mean cluster"
   ]
  },
  {
   "cell_type": "code",
   "execution_count": 13,
   "id": "7f2e7d3c",
   "metadata": {},
   "outputs": [
    {
     "data": {
      "text/html": [
       "<div>\n",
       "<style scoped>\n",
       "    .dataframe tbody tr th:only-of-type {\n",
       "        vertical-align: middle;\n",
       "    }\n",
       "\n",
       "    .dataframe tbody tr th {\n",
       "        vertical-align: top;\n",
       "    }\n",
       "\n",
       "    .dataframe thead th {\n",
       "        text-align: right;\n",
       "    }\n",
       "</style>\n",
       "<table border=\"1\" class=\"dataframe\">\n",
       "  <thead>\n",
       "    <tr style=\"text-align: right;\">\n",
       "      <th></th>\n",
       "      <th>Workforce_Ratio</th>\n",
       "    </tr>\n",
       "  </thead>\n",
       "  <tbody>\n",
       "    <tr>\n",
       "      <th>0</th>\n",
       "      <td>0.234138</td>\n",
       "    </tr>\n",
       "    <tr>\n",
       "      <th>1</th>\n",
       "      <td>0.239171</td>\n",
       "    </tr>\n",
       "    <tr>\n",
       "      <th>2</th>\n",
       "      <td>0.265569</td>\n",
       "    </tr>\n",
       "    <tr>\n",
       "      <th>3</th>\n",
       "      <td>0.233607</td>\n",
       "    </tr>\n",
       "    <tr>\n",
       "      <th>4</th>\n",
       "      <td>0.206625</td>\n",
       "    </tr>\n",
       "  </tbody>\n",
       "</table>\n",
       "</div>"
      ],
      "text/plain": [
       "   Workforce_Ratio\n",
       "0         0.234138\n",
       "1         0.239171\n",
       "2         0.265569\n",
       "3         0.233607\n",
       "4         0.206625"
      ]
     },
     "execution_count": 13,
     "metadata": {},
     "output_type": "execute_result"
    }
   ],
   "source": [
    "z = data.iloc[:,52:]\n",
    "z.head()"
   ]
  },
  {
   "cell_type": "code",
   "execution_count": 14,
   "id": "424464b6",
   "metadata": {},
   "outputs": [
    {
     "data": {
      "text/plain": [
       "KMeans(n_clusters=2)"
      ]
     },
     "execution_count": 14,
     "metadata": {},
     "output_type": "execute_result"
    }
   ],
   "source": [
    "kmeans = KMeans(2)\n",
    "kmeans.fit(z)"
   ]
  },
  {
   "cell_type": "code",
   "execution_count": 15,
   "id": "4734f627",
   "metadata": {},
   "outputs": [
    {
     "data": {
      "text/plain": [
       "array([1, 0, 0, 1, 1, 0, 1, 0, 0, 1, 0, 1, 0, 0, 1, 1, 1, 0, 1, 0, 0, 0,\n",
       "       1, 1, 0, 1, 1, 0, 0, 0, 1, 0, 1, 1, 1, 1, 1, 0, 1, 1, 0, 1, 1, 1,\n",
       "       1, 0, 1, 1, 1, 1, 1, 0, 1, 1, 1, 1, 0, 1, 1, 0, 0, 1, 0, 0, 0, 1,\n",
       "       1, 1, 0, 0, 0, 0, 0, 0, 1, 1, 0, 1, 1, 0, 1, 1, 0, 1, 0, 0, 1, 1,\n",
       "       1, 1, 1, 1, 0, 1, 1, 1, 1, 0, 0, 1], dtype=int32)"
      ]
     },
     "execution_count": 15,
     "metadata": {},
     "output_type": "execute_result"
    }
   ],
   "source": [
    "identified_clusters = kmeans.fit_predict(z)\n",
    "identified_clusters"
   ]
  },
  {
   "cell_type": "code",
   "execution_count": 16,
   "id": "e12ca8e4",
   "metadata": {},
   "outputs": [
    {
     "data": {
      "text/plain": [
       "Text(0, 0.5, 'Workforce_Ratio')"
      ]
     },
     "execution_count": 16,
     "metadata": {},
     "output_type": "execute_result"
    },
    {
     "data": {
      "image/png": "[encoded data removed]",
      "text/plain": [
       "<Figure size 432x288 with 1 Axes>"
      ]
     },
     "metadata": {
      "needs_background": "light"
     },
     "output_type": "display_data"
    }
   ],
   "source": [
    "data_with_clusters = data.copy()\n",
    "data_with_clusters['Clusters'] = identified_clusters \n",
    "\n",
    "plt.scatter(data_with_clusters['Population_Growth'],data_with_clusters['Workforce_Ratio'],c=data_with_clusters['Clusters'],cmap='rainbow')\n",
    "plt.xlabel('Population_Growth', size=14)\n",
    "plt.ylabel('Workforce_Ratio', size=14)\n"
   ]
  },
  {
   "cell_type": "code",
   "execution_count": 17,
   "id": "7c269e36",
   "metadata": {},
   "outputs": [],
   "source": [
    "clusters = identified_clusters.tolist()\n",
    "data['clusters'] = clusters"
   ]
  },
  {
   "cell_type": "markdown",
   "id": "08752f30",
   "metadata": {},
   "source": [
    "### Find out the city with cluster label\n"
   ]
  },
  {
   "cell_type": "code",
   "execution_count": 18,
   "id": "d60a279f",
   "metadata": {},
   "outputs": [
    {
     "data": {
      "text/html": [
       "<div>\n",
       "<style scoped>\n",
       "    .dataframe tbody tr th:only-of-type {\n",
       "        vertical-align: middle;\n",
       "    }\n",
       "\n",
       "    .dataframe tbody tr th {\n",
       "        vertical-align: top;\n",
       "    }\n",
       "\n",
       "    .dataframe thead th {\n",
       "        text-align: right;\n",
       "    }\n",
       "</style>\n",
       "<table border=\"1\" class=\"dataframe\">\n",
       "  <thead>\n",
       "    <tr style=\"text-align: right;\">\n",
       "      <th></th>\n",
       "      <th>NAME</th>\n",
       "      <th>clusters</th>\n",
       "    </tr>\n",
       "  </thead>\n",
       "  <tbody>\n",
       "    <tr>\n",
       "      <th>0</th>\n",
       "      <td>New York</td>\n",
       "      <td>1</td>\n",
       "    </tr>\n",
       "    <tr>\n",
       "      <th>1</th>\n",
       "      <td>Los Angeles</td>\n",
       "      <td>0</td>\n",
       "    </tr>\n",
       "    <tr>\n",
       "      <th>2</th>\n",
       "      <td>Chicago</td>\n",
       "      <td>0</td>\n",
       "    </tr>\n",
       "    <tr>\n",
       "      <th>3</th>\n",
       "      <td>Houston</td>\n",
       "      <td>1</td>\n",
       "    </tr>\n",
       "    <tr>\n",
       "      <th>4</th>\n",
       "      <td>Phoenix</td>\n",
       "      <td>1</td>\n",
       "    </tr>\n",
       "  </tbody>\n",
       "</table>\n",
       "</div>"
      ],
      "text/plain": [
       "          NAME  clusters\n",
       "0     New York         1\n",
       "1  Los Angeles         0\n",
       "2      Chicago         0\n",
       "3      Houston         1\n",
       "4      Phoenix         1"
      ]
     },
     "execution_count": 18,
     "metadata": {},
     "output_type": "execute_result"
    }
   ],
   "source": [
    "data[['NAME', 'clusters']].head()"
   ]
  },
  {
   "cell_type": "markdown",
   "id": "56791561",
   "metadata": {},
   "source": [
    "### Elbow method"
   ]
  },
  {
   "cell_type": "code",
   "execution_count": 19,
   "id": "b1575e87",
   "metadata": {},
   "outputs": [
    {
     "data": {
      "text/plain": [
       "Text(0, 0.5, 'WCSS')"
      ]
     },
     "execution_count": 19,
     "metadata": {},
     "output_type": "execute_result"
    },
    {
     "data": {
      "image/png": "[encoded data removed]",
      "text/plain": [
       "<Figure size 432x288 with 1 Axes>"
      ]
     },
     "metadata": {
      "needs_background": "light"
     },
     "output_type": "display_data"
    }
   ],
   "source": [
    "wcss=[]\n",
    "for i in range(1,10):\n",
    "    kmeans = KMeans(i)\n",
    "    kmeans.fit(z)\n",
    "    wcss_iter = kmeans.inertia_\n",
    "    wcss.append(wcss_iter)\n",
    "\n",
    "number_clusters = range(1,10)\n",
    "plt.plot(number_clusters,wcss)\n",
    "plt.title('The Elbow title')\n",
    "plt.xlabel('Number of clusters')\n",
    "plt.ylabel('WCSS')"
   ]
  },
  {
   "cell_type": "markdown",
   "id": "6a1197f3",
   "metadata": {},
   "source": [
    "## SVM"
   ]
  },
  {
   "cell_type": "markdown",
   "id": "b0bdf5a4",
   "metadata": {},
   "source": [
    "### Define the classification"
   ]
  },
  {
   "cell_type": "code",
   "execution_count": 20,
   "id": "ca293d1e",
   "metadata": {},
   "outputs": [
    {
     "data": {
      "text/plain": [
       "0.23097068684713573"
      ]
     },
     "execution_count": 20,
     "metadata": {},
     "output_type": "execute_result"
    }
   ],
   "source": [
    "data['Workforce_Ratio'].mean()"
   ]
  },
  {
   "cell_type": "markdown",
   "id": "36a64ea5",
   "metadata": {},
   "source": [
    "### Set latitude and longitude as axis"
   ]
  },
  {
   "cell_type": "code",
   "execution_count": 21,
   "id": "a5ffdcaa",
   "metadata": {},
   "outputs": [
    {
     "name": "stderr",
     "output_type": "stream",
     "text": [
      "/Users/kaikai/opt/anaconda3/lib/python3.8/site-packages/sklearn/base.py:445: UserWarning: X does not have valid feature names, but SVC was fitted with feature names\n",
      "  warnings.warn(\n"
     ]
    },
    {
     "data": {
      "text/plain": [
       "Text(0.5, 1.0, 'SVM Decision Region Boundary')"
      ]
     },
     "execution_count": 21,
     "metadata": {},
     "output_type": "execute_result"
    },
    {
     "data": {
      "image/png": "[encoded data removed]",
      "text/plain": [
       "<Figure size 432x288 with 1 Axes>"
      ]
     },
     "metadata": {
      "needs_background": "light"
     },
     "output_type": "display_data"
    }
   ],
   "source": [
    "X = data[['X', 'Y']]\n",
    "Y = [0 if i < 0.23 else 1 for i in data.Workforce_Ratio]\n",
    "\n",
    "clf = svm.SVC()\n",
    "clf.fit(X,Y)\n",
    "\n",
    "plot_decision_regions(X=np.array(X), \n",
    "                      y=np.array(Y),\n",
    "                      clf=clf, \n",
    "                      legend=2)\n",
    "\n",
    "plt.xlabel('Longitude', size=14)\n",
    "plt.ylabel('Latitude', size=14)\n",
    "\n",
    "plt.title('SVM Decision Region Boundary', size=16)"
   ]
  },
  {
   "cell_type": "markdown",
   "id": "dda8abe6",
   "metadata": {},
   "source": [
    "### Find out the city with classification label\n"
   ]
  },
  {
   "cell_type": "code",
   "execution_count": 22,
   "id": "91d0f35e",
   "metadata": {},
   "outputs": [
    {
     "data": {
      "text/html": [
       "<div>\n",
       "<style scoped>\n",
       "    .dataframe tbody tr th:only-of-type {\n",
       "        vertical-align: middle;\n",
       "    }\n",
       "\n",
       "    .dataframe tbody tr th {\n",
       "        vertical-align: top;\n",
       "    }\n",
       "\n",
       "    .dataframe thead th {\n",
       "        text-align: right;\n",
       "    }\n",
       "</style>\n",
       "<table border=\"1\" class=\"dataframe\">\n",
       "  <thead>\n",
       "    <tr style=\"text-align: right;\">\n",
       "      <th></th>\n",
       "      <th>NAME</th>\n",
       "      <th>classification</th>\n",
       "    </tr>\n",
       "  </thead>\n",
       "  <tbody>\n",
       "    <tr>\n",
       "      <th>0</th>\n",
       "      <td>New York</td>\n",
       "      <td>1</td>\n",
       "    </tr>\n",
       "    <tr>\n",
       "      <th>1</th>\n",
       "      <td>Los Angeles</td>\n",
       "      <td>1</td>\n",
       "    </tr>\n",
       "    <tr>\n",
       "      <th>2</th>\n",
       "      <td>Chicago</td>\n",
       "      <td>1</td>\n",
       "    </tr>\n",
       "    <tr>\n",
       "      <th>3</th>\n",
       "      <td>Houston</td>\n",
       "      <td>1</td>\n",
       "    </tr>\n",
       "    <tr>\n",
       "      <th>4</th>\n",
       "      <td>Phoenix</td>\n",
       "      <td>0</td>\n",
       "    </tr>\n",
       "  </tbody>\n",
       "</table>\n",
       "</div>"
      ],
      "text/plain": [
       "          NAME  classification\n",
       "0     New York               1\n",
       "1  Los Angeles               1\n",
       "2      Chicago               1\n",
       "3      Houston               1\n",
       "4      Phoenix               0"
      ]
     },
     "execution_count": 22,
     "metadata": {},
     "output_type": "execute_result"
    }
   ],
   "source": [
    "data['classification'] = Y\n",
    "data[['NAME', 'classification']].head()"
   ]
  },
  {
   "cell_type": "markdown",
   "id": "d596b48b",
   "metadata": {},
   "source": [
    "### Set race and median male age as axis"
   ]
  },
  {
   "cell_type": "code",
   "execution_count": 23,
   "id": "3abb23bf",
   "metadata": {},
   "outputs": [
    {
     "data": {
      "text/plain": [
       "SVC()"
      ]
     },
     "execution_count": 23,
     "metadata": {},
     "output_type": "execute_result"
    }
   ],
   "source": [
    "X = data[['MULT_RACE', 'MED_AGE_M']]\n",
    "Y = [0 if i < 0.23 else 1 for i in data.Workforce_Ratio]\n",
    "clf = svm.SVC()\n",
    "clf.fit(X,Y)"
   ]
  },
  {
   "cell_type": "code",
   "execution_count": 24,
   "id": "3588c3dc",
   "metadata": {},
   "outputs": [
    {
     "name": "stderr",
     "output_type": "stream",
     "text": [
      "/Users/kaikai/opt/anaconda3/lib/python3.8/site-packages/sklearn/base.py:445: UserWarning: X does not have valid feature names, but SVC was fitted with feature names\n",
      "  warnings.warn(\n"
     ]
    },
    {
     "data": {
      "text/plain": [
       "Text(0.5, 1.0, 'SVM Decision Region Boundary')"
      ]
     },
     "execution_count": 24,
     "metadata": {},
     "output_type": "execute_result"
    },
    {
     "data": {
      "image/png": "[encoded data removed]",
      "text/plain": [
       "<Figure size 432x288 with 1 Axes>"
      ]
     },
     "metadata": {
      "needs_background": "light"
     },
     "output_type": "display_data"
    }
   ],
   "source": [
    "plot_decision_regions(X=np.array(X), \n",
    "                      y=np.array(Y),\n",
    "                      clf=clf, \n",
    "                      legend=2)\n",
    "\n",
    "plt.xlabel('Race', size=14)\n",
    "plt.ylabel('Midian_Male_Age', size=14)\n",
    "\n",
    "plt.title('SVM Decision Region Boundary', size=16)"
   ]
  },
  {
   "cell_type": "markdown",
   "id": "e8eed78d",
   "metadata": {},
   "source": [
    "### Set population and average family size as axis"
   ]
  },
  {
   "cell_type": "code",
   "execution_count": 25,
   "id": "f721f1e4",
   "metadata": {},
   "outputs": [
    {
     "name": "stderr",
     "output_type": "stream",
     "text": [
      "/Users/kaikai/opt/anaconda3/lib/python3.8/site-packages/sklearn/base.py:445: UserWarning: X does not have valid feature names, but SVC was fitted with feature names\n",
      "  warnings.warn(\n"
     ]
    },
    {
     "data": {
      "text/plain": [
       "Text(0.5, 1.0, 'SVM Decision Region Boundary')"
      ]
     },
     "execution_count": 25,
     "metadata": {},
     "output_type": "execute_result"
    },
    {
     "data": {
      "image/png": "[encoded data removed]",
      "text/plain": [
       "<Figure size 432x288 with 1 Axes>"
      ]
     },
     "metadata": {
      "needs_background": "light"
     },
     "output_type": "display_data"
    }
   ],
   "source": [
    "X = data[['POPULATION', 'AVE_FAM_SZ']]\n",
    "Y = [0 if i < 0.23 else 1 for i in data.Workforce_Ratio]\n",
    "clf = svm.SVC()\n",
    "clf.fit(X,Y)\n",
    "plot_decision_regions(X=np.array(X), \n",
    "                      y=np.array(Y),\n",
    "                      clf=clf, \n",
    "                      legend=2)\n",
    "\n",
    "plt.xlabel('Population', size=14)\n",
    "plt.ylabel('Average_Family_Size', size=14)\n",
    "\n",
    "plt.title('SVM Decision Region Boundary', size=16)"
   ]
  },
  {
   "cell_type": "markdown",
   "id": "ba7a8e60",
   "metadata": {},
   "source": [
    "### Set population and number of males as axis\n"
   ]
  },
  {
   "cell_type": "code",
   "execution_count": 26,
   "id": "90fd3444",
   "metadata": {},
   "outputs": [
    {
     "name": "stderr",
     "output_type": "stream",
     "text": [
      "/Users/kaikai/opt/anaconda3/lib/python3.8/site-packages/sklearn/base.py:445: UserWarning: X does not have valid feature names, but SVC was fitted with feature names\n",
      "  warnings.warn(\n"
     ]
    },
    {
     "data": {
      "text/plain": [
       "Text(0.5, 1.0, 'SVM Decision Region Boundary')"
      ]
     },
     "execution_count": 26,
     "metadata": {},
     "output_type": "execute_result"
    },
    {
     "data": {
      "image/png": "[encoded data removed]",
      "text/plain": [
       "<Figure size 432x288 with 1 Axes>"
      ]
     },
     "metadata": {
      "needs_background": "light"
     },
     "output_type": "display_data"
    }
   ],
   "source": [
    "X = data[['POPULATION', 'MALES']]\n",
    "Y = [0 if i < 0.23 else 1 for i in data.Workforce_Ratio]\n",
    "clf = svm.SVC()\n",
    "clf.fit(X,Y)\n",
    "plot_decision_regions(X=np.array(X), \n",
    "                      y=np.array(Y),\n",
    "                      clf=clf, \n",
    "                      legend=2)\n",
    "\n",
    "plt.xlabel('Population', size=14)\n",
    "plt.ylabel('Male', size=14)\n",
    "\n",
    "plt.title('SVM Decision Region Boundary', size=16)"
   ]
  },
  {
   "cell_type": "markdown",
   "id": "3e22ce0b",
   "metadata": {},
   "source": [
    "### Set median male age and median female age as axis"
   ]
  },
  {
   "cell_type": "code",
   "execution_count": 27,
   "id": "72aadd7d",
   "metadata": {},
   "outputs": [
    {
     "name": "stderr",
     "output_type": "stream",
     "text": [
      "/Users/kaikai/opt/anaconda3/lib/python3.8/site-packages/sklearn/base.py:445: UserWarning: X does not have valid feature names, but SVC was fitted with feature names\n",
      "  warnings.warn(\n"
     ]
    },
    {
     "data": {
      "text/plain": [
       "Text(0.5, 1.0, 'SVM Decision Region Boundary')"
      ]
     },
     "execution_count": 27,
     "metadata": {},
     "output_type": "execute_result"
    },
    {
     "data": {
      "image/png": "[encoded data removed]",
      "text/plain": [
       "<Figure size 432x288 with 1 Axes>"
      ]
     },
     "metadata": {
      "needs_background": "light"
     },
     "output_type": "display_data"
    }
   ],
   "source": [
    "X = data[['MED_AGE_M', 'MED_AGE_F']]\n",
    "Y = [0 if i < 0.23 else 1 for i in data.Workforce_Ratio]\n",
    "clf = svm.SVC()\n",
    "clf.fit(X,Y)\n",
    "plot_decision_regions(X=np.array(X), \n",
    "                      y=np.array(Y),\n",
    "                      clf=clf, \n",
    "                      legend=2)\n",
    "\n",
    "plt.xlabel('Median_Male_Age', size=14)\n",
    "plt.ylabel('Median_Female_Age', size=14)\n",
    "\n",
    "plt.title('SVM Decision Region Boundary', size=16)"
   ]
  },
  {
   "cell_type": "markdown",
   "id": "1f7674c8",
   "metadata": {},
   "source": [
    "## Linear Programming"
   ]
  },
  {
   "cell_type": "code",
   "execution_count": 28,
   "id": "099849f8",
   "metadata": {},
   "outputs": [
    {
     "data": {
      "text/html": [
       "<div>\n",
       "<style scoped>\n",
       "    .dataframe tbody tr th:only-of-type {\n",
       "        vertical-align: middle;\n",
       "    }\n",
       "\n",
       "    .dataframe tbody tr th {\n",
       "        vertical-align: top;\n",
       "    }\n",
       "\n",
       "    .dataframe thead th {\n",
       "        text-align: right;\n",
       "    }\n",
       "</style>\n",
       "<table border=\"1\" class=\"dataframe\">\n",
       "  <thead>\n",
       "    <tr style=\"text-align: right;\">\n",
       "      <th></th>\n",
       "      <th>X</th>\n",
       "      <th>Y</th>\n",
       "      <th>FID</th>\n",
       "      <th>NAME</th>\n",
       "      <th>CLASS</th>\n",
       "      <th>ST</th>\n",
       "      <th>STFIPS</th>\n",
       "      <th>PLACEFIPS</th>\n",
       "      <th>CAPITAL</th>\n",
       "      <th>POP_CLASS</th>\n",
       "      <th>...</th>\n",
       "      <th>MARHH_CHD</th>\n",
       "      <th>MARHH_NO_C</th>\n",
       "      <th>MHH_CHILD</th>\n",
       "      <th>FHH_CHILD</th>\n",
       "      <th>FAMILIES</th>\n",
       "      <th>AVE_FAM_SZ</th>\n",
       "      <th>HSE_UNITS</th>\n",
       "      <th>VACANT</th>\n",
       "      <th>OWNER_OCC</th>\n",
       "      <th>RENTER_OCC</th>\n",
       "    </tr>\n",
       "  </thead>\n",
       "  <tbody>\n",
       "    <tr>\n",
       "      <th>0</th>\n",
       "      <td>-74.010132</td>\n",
       "      <td>40.710571</td>\n",
       "      <td>2174</td>\n",
       "      <td>New York</td>\n",
       "      <td>city</td>\n",
       "      <td>NY</td>\n",
       "      <td>36</td>\n",
       "      <td>3651000</td>\n",
       "      <td></td>\n",
       "      <td>10</td>\n",
       "      <td>...</td>\n",
       "      <td>531386</td>\n",
       "      <td>566484</td>\n",
       "      <td>77061</td>\n",
       "      <td>344755</td>\n",
       "      <td>1850221</td>\n",
       "      <td>3.32</td>\n",
       "      <td>3371062</td>\n",
       "      <td>261278</td>\n",
       "      <td>962892</td>\n",
       "      <td>2146892</td>\n",
       "    </tr>\n",
       "    <tr>\n",
       "      <th>1</th>\n",
       "      <td>-118.270582</td>\n",
       "      <td>34.052790</td>\n",
       "      <td>415</td>\n",
       "      <td>Los Angeles</td>\n",
       "      <td>city</td>\n",
       "      <td>CA</td>\n",
       "      <td>6</td>\n",
       "      <td>644000</td>\n",
       "      <td></td>\n",
       "      <td>10</td>\n",
       "      <td>...</td>\n",
       "      <td>277289</td>\n",
       "      <td>245056</td>\n",
       "      <td>46908</td>\n",
       "      <td>118939</td>\n",
       "      <td>807326</td>\n",
       "      <td>3.53</td>\n",
       "      <td>1413995</td>\n",
       "      <td>95827</td>\n",
       "      <td>503863</td>\n",
       "      <td>814305</td>\n",
       "    </tr>\n",
       "    <tr>\n",
       "      <th>2</th>\n",
       "      <td>-87.647146</td>\n",
       "      <td>41.756488</td>\n",
       "      <td>63</td>\n",
       "      <td>Chicago</td>\n",
       "      <td>city</td>\n",
       "      <td>IL</td>\n",
       "      <td>17</td>\n",
       "      <td>1714000</td>\n",
       "      <td></td>\n",
       "      <td>10</td>\n",
       "      <td>...</td>\n",
       "      <td>165868</td>\n",
       "      <td>168435</td>\n",
       "      <td>28332</td>\n",
       "      <td>116555</td>\n",
       "      <td>576793</td>\n",
       "      <td>3.40</td>\n",
       "      <td>1194337</td>\n",
       "      <td>148777</td>\n",
       "      <td>469562</td>\n",
       "      <td>575998</td>\n",
       "    </tr>\n",
       "    <tr>\n",
       "      <th>3</th>\n",
       "      <td>-95.367507</td>\n",
       "      <td>29.758761</td>\n",
       "      <td>3641</td>\n",
       "      <td>Houston</td>\n",
       "      <td>city</td>\n",
       "      <td>TX</td>\n",
       "      <td>48</td>\n",
       "      <td>4835000</td>\n",
       "      <td></td>\n",
       "      <td>10</td>\n",
       "      <td>...</td>\n",
       "      <td>159610</td>\n",
       "      <td>145478</td>\n",
       "      <td>26039</td>\n",
       "      <td>85014</td>\n",
       "      <td>481570</td>\n",
       "      <td>3.38</td>\n",
       "      <td>892646</td>\n",
       "      <td>110003</td>\n",
       "      <td>355236</td>\n",
       "      <td>427407</td>\n",
       "    </tr>\n",
       "    <tr>\n",
       "      <th>4</th>\n",
       "      <td>-112.073868</td>\n",
       "      <td>33.446114</td>\n",
       "      <td>910</td>\n",
       "      <td>Phoenix</td>\n",
       "      <td>city</td>\n",
       "      <td>AZ</td>\n",
       "      <td>4</td>\n",
       "      <td>455000</td>\n",
       "      <td>State</td>\n",
       "      <td>10</td>\n",
       "      <td>...</td>\n",
       "      <td>115852</td>\n",
       "      <td>102047</td>\n",
       "      <td>23353</td>\n",
       "      <td>54452</td>\n",
       "      <td>330762</td>\n",
       "      <td>3.42</td>\n",
       "      <td>590149</td>\n",
       "      <td>75343</td>\n",
       "      <td>296742</td>\n",
       "      <td>218064</td>\n",
       "    </tr>\n",
       "  </tbody>\n",
       "</table>\n",
       "<p>5 rows × 51 columns</p>\n",
       "</div>"
      ],
      "text/plain": [
       "            X          Y   FID         NAME CLASS  ST  STFIPS  PLACEFIPS  \\\n",
       "0  -74.010132  40.710571  2174     New York  city  NY      36    3651000   \n",
       "1 -118.270582  34.052790   415  Los Angeles  city  CA       6     644000   \n",
       "2  -87.647146  41.756488    63      Chicago  city  IL      17    1714000   \n",
       "3  -95.367507  29.758761  3641      Houston  city  TX      48    4835000   \n",
       "4 -112.073868  33.446114   910      Phoenix  city  AZ       4     455000   \n",
       "\n",
       "  CAPITAL  POP_CLASS  ...  MARHH_CHD  MARHH_NO_C  MHH_CHILD  FHH_CHILD  \\\n",
       "0                 10  ...     531386      566484      77061     344755   \n",
       "1                 10  ...     277289      245056      46908     118939   \n",
       "2                 10  ...     165868      168435      28332     116555   \n",
       "3                 10  ...     159610      145478      26039      85014   \n",
       "4   State         10  ...     115852      102047      23353      54452   \n",
       "\n",
       "   FAMILIES  AVE_FAM_SZ  HSE_UNITS  VACANT  OWNER_OCC  RENTER_OCC  \n",
       "0   1850221        3.32    3371062  261278     962892     2146892  \n",
       "1    807326        3.53    1413995   95827     503863      814305  \n",
       "2    576793        3.40    1194337  148777     469562      575998  \n",
       "3    481570        3.38     892646  110003     355236      427407  \n",
       "4    330762        3.42     590149   75343     296742      218064  \n",
       "\n",
       "[5 rows x 51 columns]"
      ]
     },
     "execution_count": 28,
     "metadata": {},
     "output_type": "execute_result"
    }
   ],
   "source": [
    "from pulp import * \n",
    "import pandas as pd\n",
    "df = X = pd.DataFrame(pd.read_csv(\"city.csv\"))\n",
    "df.head()"
   ]
  },
  {
   "cell_type": "code",
   "execution_count": 29,
   "id": "161cb0b7",
   "metadata": {},
   "outputs": [
    {
     "data": {
      "text/html": [
       "<div>\n",
       "<style scoped>\n",
       "    .dataframe tbody tr th:only-of-type {\n",
       "        vertical-align: middle;\n",
       "    }\n",
       "\n",
       "    .dataframe tbody tr th {\n",
       "        vertical-align: top;\n",
       "    }\n",
       "\n",
       "    .dataframe thead th {\n",
       "        text-align: right;\n",
       "    }\n",
       "</style>\n",
       "<table border=\"1\" class=\"dataframe\">\n",
       "  <thead>\n",
       "    <tr style=\"text-align: right;\">\n",
       "      <th></th>\n",
       "      <th>city</th>\n",
       "      <th>age10_14</th>\n",
       "      <th>age15_19</th>\n",
       "      <th>age20_24</th>\n",
       "      <th>age25_34</th>\n",
       "      <th>male</th>\n",
       "      <th>mid_age_male</th>\n",
       "      <th>population</th>\n",
       "      <th>pop2010</th>\n",
       "      <th>midage</th>\n",
       "      <th>avg_fm_size</th>\n",
       "    </tr>\n",
       "  </thead>\n",
       "  <tbody>\n",
       "    <tr>\n",
       "      <th>0</th>\n",
       "      <td>New York</td>\n",
       "      <td>468154</td>\n",
       "      <td>535833</td>\n",
       "      <td>642585</td>\n",
       "      <td>1392445</td>\n",
       "      <td>3882544</td>\n",
       "      <td>34.1</td>\n",
       "      <td>8691599</td>\n",
       "      <td>8175133</td>\n",
       "      <td>35.5</td>\n",
       "      <td>3.32</td>\n",
       "    </tr>\n",
       "    <tr>\n",
       "      <th>1</th>\n",
       "      <td>Los Angeles</td>\n",
       "      <td>237462</td>\n",
       "      <td>274373</td>\n",
       "      <td>314543</td>\n",
       "      <td>638900</td>\n",
       "      <td>1889064</td>\n",
       "      <td>33.3</td>\n",
       "      <td>3986442</td>\n",
       "      <td>3792621</td>\n",
       "      <td>34.2</td>\n",
       "      <td>3.53</td>\n",
       "    </tr>\n",
       "    <tr>\n",
       "      <th>2</th>\n",
       "      <td>Chicago</td>\n",
       "      <td>164466</td>\n",
       "      <td>182933</td>\n",
       "      <td>223027</td>\n",
       "      <td>515551</td>\n",
       "      <td>1308072</td>\n",
       "      <td>32.4</td>\n",
       "      <td>2781116</td>\n",
       "      <td>2695598</td>\n",
       "      <td>33.1</td>\n",
       "      <td>3.40</td>\n",
       "    </tr>\n",
       "    <tr>\n",
       "      <th>3</th>\n",
       "      <td>Houston</td>\n",
       "      <td>137307</td>\n",
       "      <td>142544</td>\n",
       "      <td>171086</td>\n",
       "      <td>373985</td>\n",
       "      <td>1053517</td>\n",
       "      <td>31.5</td>\n",
       "      <td>2333285</td>\n",
       "      <td>2099451</td>\n",
       "      <td>32.2</td>\n",
       "      <td>3.38</td>\n",
       "    </tr>\n",
       "    <tr>\n",
       "      <th>4</th>\n",
       "      <td>Phoenix</td>\n",
       "      <td>108732</td>\n",
       "      <td>110352</td>\n",
       "      <td>106757</td>\n",
       "      <td>224128</td>\n",
       "      <td>725020</td>\n",
       "      <td>31.6</td>\n",
       "      <td>1601381</td>\n",
       "      <td>1445632</td>\n",
       "      <td>32.2</td>\n",
       "      <td>3.42</td>\n",
       "    </tr>\n",
       "    <tr>\n",
       "      <th>5</th>\n",
       "      <td>Philadelphia</td>\n",
       "      <td>90640</td>\n",
       "      <td>118297</td>\n",
       "      <td>146717</td>\n",
       "      <td>246062</td>\n",
       "      <td>719813</td>\n",
       "      <td>32.1</td>\n",
       "      <td>1587761</td>\n",
       "      <td>1526006</td>\n",
       "      <td>33.6</td>\n",
       "      <td>3.20</td>\n",
       "    </tr>\n",
       "    <tr>\n",
       "      <th>6</th>\n",
       "      <td>San Antonio</td>\n",
       "      <td>97421</td>\n",
       "      <td>102486</td>\n",
       "      <td>107623</td>\n",
       "      <td>197161</td>\n",
       "      <td>647690</td>\n",
       "      <td>31.4</td>\n",
       "      <td>1442472</td>\n",
       "      <td>1327407</td>\n",
       "      <td>32.8</td>\n",
       "      <td>3.34</td>\n",
       "    </tr>\n",
       "    <tr>\n",
       "      <th>7</th>\n",
       "      <td>San Diego</td>\n",
       "      <td>75345</td>\n",
       "      <td>90813</td>\n",
       "      <td>127987</td>\n",
       "      <td>230247</td>\n",
       "      <td>660626</td>\n",
       "      <td>32.8</td>\n",
       "      <td>1397856</td>\n",
       "      <td>1307402</td>\n",
       "      <td>33.7</td>\n",
       "      <td>3.28</td>\n",
       "    </tr>\n",
       "    <tr>\n",
       "      <th>8</th>\n",
       "      <td>Dallas</td>\n",
       "      <td>78234</td>\n",
       "      <td>76976</td>\n",
       "      <td>94880</td>\n",
       "      <td>219848</td>\n",
       "      <td>598962</td>\n",
       "      <td>31.4</td>\n",
       "      <td>1323651</td>\n",
       "      <td>1197816</td>\n",
       "      <td>31.9</td>\n",
       "      <td>3.42</td>\n",
       "    </tr>\n",
       "    <tr>\n",
       "      <th>9</th>\n",
       "      <td>San Jose</td>\n",
       "      <td>61881</td>\n",
       "      <td>62973</td>\n",
       "      <td>64386</td>\n",
       "      <td>145310</td>\n",
       "      <td>475668</td>\n",
       "      <td>34.4</td>\n",
       "      <td>1042940</td>\n",
       "      <td>945942</td>\n",
       "      <td>35.2</td>\n",
       "      <td>3.54</td>\n",
       "    </tr>\n",
       "    <tr>\n",
       "      <th>10</th>\n",
       "      <td>Austin</td>\n",
       "      <td>42685</td>\n",
       "      <td>51525</td>\n",
       "      <td>87378</td>\n",
       "      <td>163686</td>\n",
       "      <td>399738</td>\n",
       "      <td>30.9</td>\n",
       "      <td>935806</td>\n",
       "      <td>790390</td>\n",
       "      <td>31.1</td>\n",
       "      <td>3.16</td>\n",
       "    </tr>\n",
       "    <tr>\n",
       "      <th>11</th>\n",
       "      <td>Jacksonville</td>\n",
       "      <td>53057</td>\n",
       "      <td>55945</td>\n",
       "      <td>62704</td>\n",
       "      <td>122314</td>\n",
       "      <td>398294</td>\n",
       "      <td>34.2</td>\n",
       "      <td>886969</td>\n",
       "      <td>821784</td>\n",
       "      <td>35.5</td>\n",
       "      <td>3.05</td>\n",
       "    </tr>\n",
       "    <tr>\n",
       "      <th>12</th>\n",
       "      <td>Columbus</td>\n",
       "      <td>45045</td>\n",
       "      <td>53667</td>\n",
       "      <td>84169</td>\n",
       "      <td>148994</td>\n",
       "      <td>384265</td>\n",
       "      <td>30.5</td>\n",
       "      <td>871273</td>\n",
       "      <td>787033</td>\n",
       "      <td>31.4</td>\n",
       "      <td>3.04</td>\n",
       "    </tr>\n",
       "    <tr>\n",
       "      <th>13</th>\n",
       "      <td>San Francisco</td>\n",
       "      <td>26299</td>\n",
       "      <td>34606</td>\n",
       "      <td>60618</td>\n",
       "      <td>168120</td>\n",
       "      <td>408462</td>\n",
       "      <td>38.5</td>\n",
       "      <td>871042</td>\n",
       "      <td>805235</td>\n",
       "      <td>38.5</td>\n",
       "      <td>3.11</td>\n",
       "    </tr>\n",
       "    <tr>\n",
       "      <th>14</th>\n",
       "      <td>Indianapolis</td>\n",
       "      <td>53493</td>\n",
       "      <td>56753</td>\n",
       "      <td>63652</td>\n",
       "      <td>132958</td>\n",
       "      <td>396346</td>\n",
       "      <td>32.8</td>\n",
       "      <td>864712</td>\n",
       "      <td>820445</td>\n",
       "      <td>33.8</td>\n",
       "      <td>3.08</td>\n",
       "    </tr>\n",
       "    <tr>\n",
       "      <th>15</th>\n",
       "      <td>Fort Worth</td>\n",
       "      <td>56257</td>\n",
       "      <td>52811</td>\n",
       "      <td>54371</td>\n",
       "      <td>121379</td>\n",
       "      <td>363896</td>\n",
       "      <td>30.6</td>\n",
       "      <td>851362</td>\n",
       "      <td>741206</td>\n",
       "      <td>31.3</td>\n",
       "      <td>3.41</td>\n",
       "    </tr>\n",
       "    <tr>\n",
       "      <th>16</th>\n",
       "      <td>Charlotte</td>\n",
       "      <td>48427</td>\n",
       "      <td>48830</td>\n",
       "      <td>54121</td>\n",
       "      <td>128486</td>\n",
       "      <td>353511</td>\n",
       "      <td>32.2</td>\n",
       "      <td>838742</td>\n",
       "      <td>731424</td>\n",
       "      <td>33.3</td>\n",
       "      <td>3.14</td>\n",
       "    </tr>\n",
       "    <tr>\n",
       "      <th>17</th>\n",
       "      <td>Denver</td>\n",
       "      <td>30365</td>\n",
       "      <td>32275</td>\n",
       "      <td>47688</td>\n",
       "      <td>122830</td>\n",
       "      <td>300089</td>\n",
       "      <td>33.6</td>\n",
       "      <td>699521</td>\n",
       "      <td>600158</td>\n",
       "      <td>33.8</td>\n",
       "      <td>3.15</td>\n",
       "    </tr>\n",
       "    <tr>\n",
       "      <th>18</th>\n",
       "      <td>El Paso</td>\n",
       "      <td>53131</td>\n",
       "      <td>54469</td>\n",
       "      <td>48799</td>\n",
       "      <td>85841</td>\n",
       "      <td>311280</td>\n",
       "      <td>30.3</td>\n",
       "      <td>693738</td>\n",
       "      <td>649121</td>\n",
       "      <td>32.5</td>\n",
       "      <td>3.47</td>\n",
       "    </tr>\n",
       "    <tr>\n",
       "      <th>19</th>\n",
       "      <td>Seattle</td>\n",
       "      <td>22091</td>\n",
       "      <td>30585</td>\n",
       "      <td>54885</td>\n",
       "      <td>126616</td>\n",
       "      <td>304030</td>\n",
       "      <td>35.9</td>\n",
       "      <td>687870</td>\n",
       "      <td>608660</td>\n",
       "      <td>36.2</td>\n",
       "      <td>2.87</td>\n",
       "    </tr>\n",
       "  </tbody>\n",
       "</table>\n",
       "</div>"
      ],
      "text/plain": [
       "             city  age10_14  age15_19  age20_24  age25_34     male  \\\n",
       "0        New York    468154    535833    642585   1392445  3882544   \n",
       "1     Los Angeles    237462    274373    314543    638900  1889064   \n",
       "2         Chicago    164466    182933    223027    515551  1308072   \n",
       "3         Houston    137307    142544    171086    373985  1053517   \n",
       "4         Phoenix    108732    110352    106757    224128   725020   \n",
       "5    Philadelphia     90640    118297    146717    246062   719813   \n",
       "6     San Antonio     97421    102486    107623    197161   647690   \n",
       "7       San Diego     75345     90813    127987    230247   660626   \n",
       "8          Dallas     78234     76976     94880    219848   598962   \n",
       "9        San Jose     61881     62973     64386    145310   475668   \n",
       "10         Austin     42685     51525     87378    163686   399738   \n",
       "11   Jacksonville     53057     55945     62704    122314   398294   \n",
       "12       Columbus     45045     53667     84169    148994   384265   \n",
       "13  San Francisco     26299     34606     60618    168120   408462   \n",
       "14   Indianapolis     53493     56753     63652    132958   396346   \n",
       "15     Fort Worth     56257     52811     54371    121379   363896   \n",
       "16      Charlotte     48427     48830     54121    128486   353511   \n",
       "17         Denver     30365     32275     47688    122830   300089   \n",
       "18        El Paso     53131     54469     48799     85841   311280   \n",
       "19        Seattle     22091     30585     54885    126616   304030   \n",
       "\n",
       "    mid_age_male  population  pop2010  midage  avg_fm_size  \n",
       "0           34.1     8691599  8175133    35.5         3.32  \n",
       "1           33.3     3986442  3792621    34.2         3.53  \n",
       "2           32.4     2781116  2695598    33.1         3.40  \n",
       "3           31.5     2333285  2099451    32.2         3.38  \n",
       "4           31.6     1601381  1445632    32.2         3.42  \n",
       "5           32.1     1587761  1526006    33.6         3.20  \n",
       "6           31.4     1442472  1327407    32.8         3.34  \n",
       "7           32.8     1397856  1307402    33.7         3.28  \n",
       "8           31.4     1323651  1197816    31.9         3.42  \n",
       "9           34.4     1042940   945942    35.2         3.54  \n",
       "10          30.9      935806   790390    31.1         3.16  \n",
       "11          34.2      886969   821784    35.5         3.05  \n",
       "12          30.5      871273   787033    31.4         3.04  \n",
       "13          38.5      871042   805235    38.5         3.11  \n",
       "14          32.8      864712   820445    33.8         3.08  \n",
       "15          30.6      851362   741206    31.3         3.41  \n",
       "16          32.2      838742   731424    33.3         3.14  \n",
       "17          33.6      699521   600158    33.8         3.15  \n",
       "18          30.3      693738   649121    32.5         3.47  \n",
       "19          35.9      687870   608660    36.2         2.87  "
      ]
     },
     "execution_count": 29,
     "metadata": {},
     "output_type": "execute_result"
    }
   ],
   "source": [
    "dfsmall=df.filter(items=['NAME', 'AGE_10_14', 'AGE_15_19','AGE_20_24', 'AGE_25_34', 'MALES', 'MED_AGE_M','POPULATION', 'POP2010','MED_AGE','AVE_FAM_SZ'], axis=1).filter(items=range(0,20), axis=0)\n",
    "dfsmall.columns=('city','age10_14','age15_19','age20_24', 'age25_34', 'male', 'mid_age_male', 'population', 'pop2010', 'midage', 'avg_fm_size')\n",
    "dfsmall"
   ]
  },
  {
   "cell_type": "code",
   "execution_count": 30,
   "id": "44736134",
   "metadata": {},
   "outputs": [],
   "source": [
    "prob = LpProblem(name=\"Warehouse\", sense=LpMaximize)\n",
    "\n",
    "data = pulp.LpVariable.dicts('city',(name for name in dfsmall['city']), lowBound=0, upBound=1, cat='Binary')"
   ]
  },
  {
   "cell_type": "code",
   "execution_count": 31,
   "id": "3b3ed2be",
   "metadata": {},
   "outputs": [],
   "source": [
    "#objective\n",
    "prob += lpSum([data[dfsmall.loc[i,'city']]*(int(dfsmall.loc[i,'age20_24'])+int(dfsmall.loc[i,'age25_34'])) for i in dfsmall.index])\n",
    "\n",
    "#contraints\n",
    "prob += lpSum([data[dfsmall.loc[i,'city']]*int(dfsmall.loc[i,'male']) for i in dfsmall.index]) >= 120000\n",
    "prob += lpSum([data[dfsmall.loc[i,'city']]*int(dfsmall.loc[i,'mid_age_male']) for i in dfsmall.index]) <= 124\n",
    "prob += lpSum([data[dfsmall.loc[i,'city']]*int(dfsmall.loc[i,'age10_14']) for i in dfsmall.index]) >= 200000\n",
    "prob += lpSum([data[dfsmall.loc[i,'city']]*int(dfsmall.loc[i,'age15_19']) for i in dfsmall.index]) >= 120000\n",
    "\n",
    "prob += lpSum([data[dfsmall.loc[i,'city']] for i in range(1,20)]) == 4\n"
   ]
  },
  {
   "cell_type": "code",
   "execution_count": 32,
   "id": "52f2ed2c",
   "metadata": {},
   "outputs": [
    {
     "data": {
      "text/plain": [
       "'Optimal'"
      ]
     },
     "execution_count": 32,
     "metadata": {},
     "output_type": "execute_result"
    }
   ],
   "source": [
    "prob.solve()\n",
    "LpStatus[prob.status]"
   ]
  },
  {
   "cell_type": "code",
   "execution_count": 33,
   "id": "4e6b2030",
   "metadata": {},
   "outputs": [
    {
     "name": "stdout",
     "output_type": "stream",
     "text": [
      "city_New_York :  0.0\n",
      "city_Los_Angeles :  1.0\n",
      "city_Chicago :  0.0\n",
      "city_Houston :  1.0\n",
      "city_Phoenix :  0.0\n",
      "city_Philadelphia :  0.0\n",
      "city_San_Antonio :  0.0\n",
      "city_San_Diego :  0.0\n",
      "city_Dallas :  0.0\n",
      "city_San_Jose :  0.0\n",
      "city_Austin :  1.0\n",
      "city_Jacksonville :  0.0\n",
      "city_Columbus :  1.0\n",
      "city_San_Francisco :  0.0\n",
      "city_Indianapolis :  0.0\n",
      "city_Fort_Worth :  0.0\n",
      "city_Charlotte :  0.0\n",
      "city_Denver :  0.0\n",
      "city_El_Paso :  0.0\n",
      "city_Seattle :  0.0\n"
     ]
    }
   ],
   "source": [
    "for i in data:\n",
    "    print(data[i], ': ', data[i].varValue)"
   ]
  },
  {
   "cell_type": "code",
   "execution_count": 34,
   "id": "0a509deb",
   "metadata": {},
   "outputs": [
    {
     "data": {
      "text/plain": [
       "1982741.0"
      ]
     },
     "execution_count": 34,
     "metadata": {},
     "output_type": "execute_result"
    }
   ],
   "source": [
    "value(prob.objective)"
   ]
  },
  {
   "cell_type": "markdown",
   "id": "5b519238",
   "metadata": {},
   "source": [
    "### Cities we choose: Los Angeles, Houston, Austin, Columbus\n"
   ]
  },
  {
   "cell_type": "markdown",
   "id": "1068f901",
   "metadata": {},
   "source": [
    "### Second LP"
   ]
  },
  {
   "cell_type": "code",
   "execution_count": 35,
   "id": "69df8f61",
   "metadata": {},
   "outputs": [],
   "source": [
    "prob = LpProblem(name=\"Warehouse\", sense=LpMaximize)\n",
    "data = pulp.LpVariable.dicts('city',(name for name in dfsmall['city']), lowBound=0, upBound=1, cat='Binary')"
   ]
  },
  {
   "cell_type": "code",
   "execution_count": 36,
   "id": "b1656330",
   "metadata": {},
   "outputs": [],
   "source": [
    "#objective\n",
    "prob += lpSum([data[dfsmall.loc[i,'city']]*(int(dfsmall.loc[i,'population'])/int(dfsmall.loc[i,'pop2010'])) for i in dfsmall.index])\n",
    "\n",
    "#contraints\n",
    "prob += lpSum([data[dfsmall.loc[i,'city']]*int(dfsmall.loc[i,'midage']) for i in dfsmall.index]) <= 130\n",
    "prob += lpSum([data[dfsmall.loc[i,'city']]*int(dfsmall.loc[i,'avg_fm_size']) for i in dfsmall.index]) >= 12\n",
    "prob += lpSum([data[dfsmall.loc[i,'city']]*int(dfsmall.loc[i,'population']) for i in dfsmall.index]) >= 2000000\n",
    "prob += lpSum([data[dfsmall.loc[i,'city']]*int(dfsmall.loc[i,'age15_19']) for i in dfsmall.index]) >= 120000\n",
    "\n",
    "prob += lpSum([data[dfsmall.loc[i,'city']] for i in range(1,20)]) == 4\n"
   ]
  },
  {
   "cell_type": "code",
   "execution_count": 37,
   "id": "22254cc3",
   "metadata": {},
   "outputs": [
    {
     "data": {
      "text/plain": [
       "'Optimal'"
      ]
     },
     "execution_count": 37,
     "metadata": {},
     "output_type": "execute_result"
    }
   ],
   "source": [
    "prob.solve()\n",
    "LpStatus[prob.status]"
   ]
  },
  {
   "cell_type": "code",
   "execution_count": 38,
   "id": "0ea6d3da",
   "metadata": {},
   "outputs": [
    {
     "name": "stdout",
     "output_type": "stream",
     "text": [
      "city_New_York :  0.0\n",
      "city_Los_Angeles :  0.0\n",
      "city_Chicago :  0.0\n",
      "city_Houston :  0.0\n",
      "city_Phoenix :  0.0\n",
      "city_Philadelphia :  0.0\n",
      "city_San_Antonio :  0.0\n",
      "city_San_Diego :  0.0\n",
      "city_Dallas :  0.0\n",
      "city_San_Jose :  0.0\n",
      "city_Austin :  1.0\n",
      "city_Jacksonville :  0.0\n",
      "city_Columbus :  0.0\n",
      "city_San_Francisco :  0.0\n",
      "city_Indianapolis :  0.0\n",
      "city_Fort_Worth :  1.0\n",
      "city_Charlotte :  1.0\n",
      "city_Denver :  1.0\n",
      "city_El_Paso :  0.0\n",
      "city_Seattle :  0.0\n"
     ]
    }
   ],
   "source": [
    "for i in data:\n",
    "    print(data[i], ': ', data[i].varValue)"
   ]
  },
  {
   "cell_type": "code",
   "execution_count": 39,
   "id": "29e1cc27",
   "metadata": {},
   "outputs": [
    {
     "data": {
      "text/plain": [
       "4.644883461298303"
      ]
     },
     "execution_count": 39,
     "metadata": {},
     "output_type": "execute_result"
    }
   ],
   "source": [
    "value(prob.objective)"
   ]
  },
  {
   "cell_type": "markdown",
   "id": "f634777e",
   "metadata": {},
   "source": [
    "### Cities we choose: Austin, Fort Worth, Charlotte, Denver"
   ]
  }
 ],
 "metadata": {
  "kernelspec": {
   "display_name": "Python 3",
   "language": "python",
   "name": "python3"
  },
  "language_info": {
   "codemirror_mode": {
    "name": "ipython",
    "version": 3
   },
   "file_extension": ".py",
   "mimetype": "text/x-python",
   "name": "python",
   "nbconvert_exporter": "python",
   "pygments_lexer": "ipython3",
   "version": "3.8.8"
  }
 },
 "nbformat": 4,
 "nbformat_minor": 5
}
